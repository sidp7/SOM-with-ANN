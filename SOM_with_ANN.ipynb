{
  "nbformat": 4,
  "nbformat_minor": 0,
  "metadata": {
    "colab": {
      "name": "SOM with ANN.ipynb",
      "provenance": [],
      "authorship_tag": "ABX9TyNGVC2HHRroI6wHhRb5L+iK",
      "include_colab_link": true
    },
    "kernelspec": {
      "name": "python3",
      "display_name": "Python 3"
    }
  },
  "cells": [
    {
      "cell_type": "markdown",
      "metadata": {
        "id": "view-in-github",
        "colab_type": "text"
      },
      "source": [
        "<a href=\"https://colab.research.google.com/github/sidp7/SOM-with-ANN/blob/main/SOM_with_ANN.ipynb\" target=\"_parent\"><img src=\"https://colab.research.google.com/assets/colab-badge.svg\" alt=\"Open In Colab\"/></a>"
      ]
    },
    {
      "cell_type": "markdown",
      "metadata": {
        "id": "z6Z4nQfABcDv"
      },
      "source": [
        "**Part 1 - Self Organizing Map**"
      ]
    },
    {
      "cell_type": "markdown",
      "metadata": {
        "id": "W8JH70l8BlfY"
      },
      "source": [
        "Installing packages and importing libraries"
      ]
    },
    {
      "cell_type": "code",
      "metadata": {
        "id": "VZq1hG28Bk7I",
        "outputId": "c02db568-624c-4b32-86e3-be6f33cc70fa",
        "colab": {
          "base_uri": "https://localhost:8080/",
          "height": 34
        }
      },
      "source": [
        "!pip install MiniSom\n",
        "import numpy as np\n",
        "import pandas as pd\n",
        "import matplotlib.pyplot as plt"
      ],
      "execution_count": null,
      "outputs": [
        {
          "output_type": "stream",
          "text": [
            "Requirement already satisfied: MiniSom in /usr/local/lib/python3.6/dist-packages (2.2.6)\n"
          ],
          "name": "stdout"
        }
      ]
    },
    {
      "cell_type": "code",
      "metadata": {
        "id": "qFKPyweuCL2t"
      },
      "source": [
        "dataset = pd.read_csv('Credit_Card_Applications.csv')\n",
        "X = dataset.iloc[:, :-1].values \n",
        "y = dataset.iloc[:, -1].values"
      ],
      "execution_count": null,
      "outputs": []
    },
    {
      "cell_type": "markdown",
      "metadata": {
        "id": "bi3qparCCVIy"
      },
      "source": [
        "Feature Scaling"
      ]
    },
    {
      "cell_type": "code",
      "metadata": {
        "id": "szLPKMpTCThc"
      },
      "source": [
        "from sklearn.preprocessing import MinMaxScaler\n",
        "sc = MinMaxScaler(feature_range = (0,1))\n",
        "X = sc.fit_transform(X)"
      ],
      "execution_count": null,
      "outputs": []
    },
    {
      "cell_type": "markdown",
      "metadata": {
        "id": "tV3p1bkvCYXP"
      },
      "source": [
        "Training the SOM"
      ]
    },
    {
      "cell_type": "code",
      "metadata": {
        "id": "rUiswcA8CYrH"
      },
      "source": [
        "from minisom import MiniSom\n",
        "som = MiniSom(x=10, y=10, input_len= 15, sigma= 1.0, learning_rate = 0.5)\n",
        "som.random_weights_init(X)\n",
        "som.train_random(data = X, num_iteration = 100)"
      ],
      "execution_count": null,
      "outputs": []
    },
    {
      "cell_type": "markdown",
      "metadata": {
        "id": "7KF3W70HCds1"
      },
      "source": [
        "Visualizing the results"
      ]
    },
    {
      "cell_type": "code",
      "metadata": {
        "id": "i6rk-vexCd51",
        "outputId": "3d9bada8-1b80-40f9-d9d5-e68ace34ab08",
        "colab": {
          "base_uri": "https://localhost:8080/",
          "height": 269
        }
      },
      "source": [
        "from pylab import bone, pcolor, colorbar, plot, show\n",
        "bone()\n",
        "pcolor(som.distance_map().T)\n",
        "colorbar()\n",
        "markers = ['o', 's']\n",
        "colors = ['r', 'g']\n",
        "for i, x in enumerate(X):\n",
        "    w = som.winner(x)\n",
        "    plot(w[0] + 0.5,\n",
        "         w[1] + 0.5,\n",
        "         markers[y[i]],\n",
        "         markeredgecolor = colors[y[i]],\n",
        "         markerfacecolor = 'None',\n",
        "         markersize = 10,\n",
        "         markeredgewidth = 2)\n",
        "show()"
      ],
      "execution_count": null,
      "outputs": [
        {
          "output_type": "display_data",
          "data": {
            "image/png": "[encoded data removed]",
            "text/plain": [
              "<Figure size 432x288 with 2 Axes>"
            ]
          },
          "metadata": {
            "tags": [],
            "needs_background": "light"
          }
        }
      ]
    },
    {
      "cell_type": "markdown",
      "metadata": {
        "id": "mDRs7-NgCkET"
      },
      "source": [
        "Finding the frauds"
      ]
    },
    {
      "cell_type": "code",
      "metadata": {
        "id": "zrnNt4a6ClnL"
      },
      "source": [
        "mappings = som.win_map(X)\n",
        "frauds = np.concatenate((mappings[(4,1)], mappings[(5,1)]), axis = 0)\n",
        "frauds = sc.inverse_transform(frauds)"
      ],
      "execution_count": null,
      "outputs": []
    },
    {
      "cell_type": "markdown",
      "metadata": {
        "id": "aaDbrdpoCnuB"
      },
      "source": [
        "Printing the Fraud Clients"
      ]
    },
    {
      "cell_type": "code",
      "metadata": {
        "id": "ewFMq_C8Crov",
        "outputId": "648189bb-81f8-4ed4-ab42-0368550051ba",
        "colab": {
          "base_uri": "https://localhost:8080/",
          "height": 442
        }
      },
      "source": [
        "print('Fraud Customer IDs')\n",
        "for i in frauds[:, 0]:\n",
        "  print(int(i))"
      ],
      "execution_count": null,
      "outputs": [
        {
          "output_type": "stream",
          "text": [
            "Fraud Customer IDs\n",
            "15690372\n",
            "15586174\n",
            "15775750\n",
            "15788776\n",
            "15765257\n",
            "15764226\n",
            "15775235\n",
            "15780088\n",
            "15767231\n",
            "15690492\n",
            "15762716\n",
            "15768474\n",
            "15762045\n",
            "15750476\n",
            "15761047\n",
            "15687527\n",
            "15717065\n",
            "15721569\n",
            "15799859\n",
            "15646563\n",
            "15789014\n",
            "15652048\n",
            "15771409\n",
            "15814116\n"
          ],
          "name": "stdout"
        }
      ]
    },
    {
      "cell_type": "markdown",
      "metadata": {
        "id": "Aj9zgI2RCv1p"
      },
      "source": [
        "**Part 2 - Going from Unsupervised to Supervised Deep Learning**"
      ]
    },
    {
      "cell_type": "markdown",
      "metadata": {
        "id": "qdVI-Yh9C1tK"
      },
      "source": [
        "Creating Matrix of features"
      ]
    },
    {
      "cell_type": "code",
      "metadata": {
        "id": "SI9uZp4ICwWL"
      },
      "source": [
        "customers = dataset.iloc[:,1:].values"
      ],
      "execution_count": null,
      "outputs": []
    },
    {
      "cell_type": "markdown",
      "metadata": {
        "id": "U3b301X7FpLc"
      },
      "source": [
        "Creating the dependent variable"
      ]
    },
    {
      "cell_type": "code",
      "metadata": {
        "id": "KkOIe9icEa6T"
      },
      "source": [
        "is_fraud = np.zeros(len(dataset))\n",
        "for i in range(len(dataset)):\n",
        "  if dataset.iloc[i,0] in frauds:\n",
        "    is_fraud[i] = 1\n"
      ],
      "execution_count": null,
      "outputs": []
    },
    {
      "cell_type": "markdown",
      "metadata": {
        "id": "HwZNwK3uGZyR"
      },
      "source": [
        "**Part 3 - ANN**"
      ]
    },
    {
      "cell_type": "markdown",
      "metadata": {
        "id": "_RbrBhocGi3o"
      },
      "source": [
        "Feature Scaling"
      ]
    },
    {
      "cell_type": "code",
      "metadata": {
        "id": "cF8fgGV-GUfR"
      },
      "source": [
        "from sklearn.preprocessing import StandardScaler\n",
        "sc = StandardScaler()\n",
        "customers = sc.fit_transform(customers)"
      ],
      "execution_count": null,
      "outputs": []
    },
    {
      "cell_type": "markdown",
      "metadata": {
        "id": "R2Z0AXTAJBxZ"
      },
      "source": [
        "Import Tensorflow"
      ]
    },
    {
      "cell_type": "code",
      "metadata": {
        "id": "Q1motNJRJA0C"
      },
      "source": [
        "import tensorflow as tf"
      ],
      "execution_count": null,
      "outputs": []
    },
    {
      "cell_type": "markdown",
      "metadata": {
        "id": "jkyB6LtkJJ58"
      },
      "source": [
        "Initializing the ANN"
      ]
    },
    {
      "cell_type": "code",
      "metadata": {
        "id": "H1MrksZbJI4a"
      },
      "source": [
        "ann = tf.keras.models.Sequential()"
      ],
      "execution_count": null,
      "outputs": []
    },
    {
      "cell_type": "markdown",
      "metadata": {
        "id": "X1pOVSpUJOB6"
      },
      "source": [
        "Adding the input layer and first hidden layer"
      ]
    },
    {
      "cell_type": "code",
      "metadata": {
        "id": "I_MN0wnBJNGi"
      },
      "source": [
        "ann.add(tf.keras.layers.Dense(units=2, activation='relu'))"
      ],
      "execution_count": null,
      "outputs": []
    },
    {
      "cell_type": "markdown",
      "metadata": {
        "id": "Q_tPBXw3JZ5J"
      },
      "source": [
        "Adding the Output Layer"
      ]
    },
    {
      "cell_type": "code",
      "metadata": {
        "id": "sVh88WfJJYia"
      },
      "source": [
        "ann.add(tf.keras.layers.Dense(units=1, activation='sigmoid'))"
      ],
      "execution_count": null,
      "outputs": []
    },
    {
      "cell_type": "markdown",
      "metadata": {
        "id": "mtFJF5dYJeEn"
      },
      "source": [
        "Training the ANN"
      ]
    },
    {
      "cell_type": "code",
      "metadata": {
        "id": "4RrVva_zJf9i"
      },
      "source": [
        "ann.compile(optimizer = 'adam', loss = 'binary_crossentropy', metrics = ['accuracy'])"
      ],
      "execution_count": null,
      "outputs": []
    },
    {
      "cell_type": "markdown",
      "metadata": {
        "id": "k0oTHhX1JmFX"
      },
      "source": [
        "Training the ANN on the training set"
      ]
    },
    {
      "cell_type": "code",
      "metadata": {
        "id": "MxwyAsr6J4cL",
        "outputId": "1fb0c442-004f-4959-a40d-d157e798c54d",
        "colab": {
          "base_uri": "https://localhost:8080/",
          "height": 1000
        }
      },
      "source": [
        "ann.fit(customers, is_fraud, batch_size = 1, epochs = 30)"
      ],
      "execution_count": null,
      "outputs": [
        {
          "output_type": "stream",
          "text": [
            "Epoch 1/30\n",
            "690/690 [==============================] - 1s 804us/step - loss: 0.0256 - accuracy: 0.9899\n",
            "Epoch 2/30\n",
            "690/690 [==============================] - 1s 841us/step - loss: 0.0250 - accuracy: 0.9899\n",
            "Epoch 3/30\n",
            "690/690 [==============================] - 1s 803us/step - loss: 0.0255 - accuracy: 0.9899\n",
            "Epoch 4/30\n",
            "690/690 [==============================] - 1s 863us/step - loss: 0.0255 - accuracy: 0.9899\n",
            "Epoch 5/30\n",
            "690/690 [==============================] - 1s 842us/step - loss: 0.0250 - accuracy: 0.9913\n",
            "Epoch 6/30\n",
            "690/690 [==============================] - 1s 855us/step - loss: 0.0254 - accuracy: 0.9899\n",
            "Epoch 7/30\n",
            "690/690 [==============================] - 1s 872us/step - loss: 0.0246 - accuracy: 0.9913\n",
            "Epoch 8/30\n",
            "690/690 [==============================] - 1s 838us/step - loss: 0.0249 - accuracy: 0.9899\n",
            "Epoch 9/30\n",
            "690/690 [==============================] - 1s 841us/step - loss: 0.0252 - accuracy: 0.9913\n",
            "Epoch 10/30\n",
            "690/690 [==============================] - 1s 811us/step - loss: 0.0247 - accuracy: 0.9899\n",
            "Epoch 11/30\n",
            "690/690 [==============================] - 1s 798us/step - loss: 0.0254 - accuracy: 0.9899\n",
            "Epoch 12/30\n",
            "690/690 [==============================] - 1s 844us/step - loss: 0.0250 - accuracy: 0.9899\n",
            "Epoch 13/30\n",
            "690/690 [==============================] - 1s 825us/step - loss: 0.0247 - accuracy: 0.9913\n",
            "Epoch 14/30\n",
            "690/690 [==============================] - 1s 823us/step - loss: 0.0249 - accuracy: 0.9899\n",
            "Epoch 15/30\n",
            "690/690 [==============================] - 1s 789us/step - loss: 0.0249 - accuracy: 0.9899\n",
            "Epoch 16/30\n",
            "690/690 [==============================] - 1s 835us/step - loss: 0.0257 - accuracy: 0.9884\n",
            "Epoch 17/30\n",
            "690/690 [==============================] - 1s 824us/step - loss: 0.0251 - accuracy: 0.9899\n",
            "Epoch 18/30\n",
            "690/690 [==============================] - 1s 827us/step - loss: 0.0247 - accuracy: 0.9913\n",
            "Epoch 19/30\n",
            "690/690 [==============================] - 1s 831us/step - loss: 0.0252 - accuracy: 0.9899\n",
            "Epoch 20/30\n",
            "690/690 [==============================] - 1s 813us/step - loss: 0.0249 - accuracy: 0.9899\n",
            "Epoch 21/30\n",
            "690/690 [==============================] - 1s 847us/step - loss: 0.0248 - accuracy: 0.9899\n",
            "Epoch 22/30\n",
            "690/690 [==============================] - 1s 844us/step - loss: 0.0243 - accuracy: 0.9899\n",
            "Epoch 23/30\n",
            "690/690 [==============================] - 1s 871us/step - loss: 0.0254 - accuracy: 0.9899\n",
            "Epoch 24/30\n",
            "690/690 [==============================] - 1s 821us/step - loss: 0.0247 - accuracy: 0.9899\n",
            "Epoch 25/30\n",
            "690/690 [==============================] - 1s 842us/step - loss: 0.0248 - accuracy: 0.9899\n",
            "Epoch 26/30\n",
            "690/690 [==============================] - 1s 815us/step - loss: 0.0246 - accuracy: 0.9913\n",
            "Epoch 27/30\n",
            "690/690 [==============================] - 1s 812us/step - loss: 0.0248 - accuracy: 0.9913\n",
            "Epoch 28/30\n",
            "690/690 [==============================] - 1s 837us/step - loss: 0.0248 - accuracy: 0.9899\n",
            "Epoch 29/30\n",
            "690/690 [==============================] - 1s 808us/step - loss: 0.0246 - accuracy: 0.9899\n",
            "Epoch 30/30\n",
            "690/690 [==============================] - 1s 834us/step - loss: 0.0240 - accuracy: 0.9913\n"
          ],
          "name": "stdout"
        },
        {
          "output_type": "execute_result",
          "data": {
            "text/plain": [
              "<tensorflow.python.keras.callbacks.History at 0x7fd6e8848208>"
            ]
          },
          "metadata": {
            "tags": []
          },
          "execution_count": 18
        }
      ]
    },
    {
      "cell_type": "markdown",
      "metadata": {
        "id": "pCltweuPKNcu"
      },
      "source": [
        "Predicting the test results"
      ]
    },
    {
      "cell_type": "code",
      "metadata": {
        "id": "mNq3P32DKSxE"
      },
      "source": [
        "y_pred = ann.predict(customers)\n",
        "y_pred = np.concatenate((dataset.iloc[:, 0:1].values, y_pred), axis = 1)\n",
        "y_pred = y_pred[y_pred[:, 1].argsort()]"
      ],
      "execution_count": null,
      "outputs": []
    },
    {
      "cell_type": "code",
      "metadata": {
        "id": "c47Z9FtdLAFm",
        "outputId": "51381fce-cddb-4a08-da09-c9a3e8e66ed8",
        "colab": {
          "base_uri": "https://localhost:8080/",
          "height": 136
        }
      },
      "source": [
        "print(y_pred)"
      ],
      "execution_count": null,
      "outputs": [
        {
          "output_type": "stream",
          "text": [
            "[[1.56739070e+07 0.00000000e+00]\n",
            " [1.57289060e+07 0.00000000e+00]\n",
            " [1.56355980e+07 0.00000000e+00]\n",
            " ...\n",
            " [1.57064640e+07 7.82054663e-01]\n",
            " [1.56378910e+07 7.82054663e-01]\n",
            " [1.57610470e+07 7.82054663e-01]]\n"
          ],
          "name": "stdout"
        }
      ]
    },
    {
      "cell_type": "code",
      "metadata": {
        "id": "MRfVNALZLCaC"
      },
      "source": [
        ""
      ],
      "execution_count": null,
      "outputs": []
    }
  ]
}